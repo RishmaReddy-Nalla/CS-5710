{
  "cells": [
    {
      "cell_type": "markdown",
      "source": [
        "# Question 1"
      ],
      "metadata": {
        "id": "mtSNjpsQaFv3"
      }
    },
    {
      "cell_type": "code",
      "execution_count": null,
      "metadata": {
        "colab": {
          "base_uri": "https://localhost:8080/"
        },
        "id": "S-Vlk8tnZ_6v",
        "outputId": "c9a8c256-5064-4861-d19b-221b2761f434"
      },
      "outputs": [
        {
          "output_type": "stream",
          "name": "stdout",
          "text": [
            "Sorted List values:  [19, 19, 20, 22, 24, 24, 24, 25, 25, 26]\n",
            "Maximum Age is 19 and Maximum age is 26\n",
            "list after adding min and max values:  [19, 19, 20, 22, 24, 24, 24, 25, 25, 26, 19, 26]\n",
            "24.0\n",
            "22.75\n",
            "7\n"
          ]
        }
      ],
      "source": [
        "import math\n",
        "# given list of 10 students age\n",
        "ages = [19, 22, 19, 24, 20, 25, 26, 24, 25, 24]\n",
        "\n",
        "# 1) sorting list values and finding min, max values of ages\n",
        "## step 1: Sorting list values\n",
        "sorted_ages = sorted(ages)\n",
        "print(\"Sorted List values: \",sorted_ages)\n",
        "\n",
        "## step 2: Finding min and max values\n",
        "min_age = min(sorted_ages)\n",
        "max_age = max(sorted_ages)\n",
        "print(f\"Maximum Age is {min_age} and Maximum age is {max_age}\" )\n",
        "\n",
        "## Adding min and max values to list again\n",
        "sorted_ages.extend([min_age, max_age])\n",
        "print(\"list after adding min and max values: \", sorted_ages)\n",
        "\n",
        "## Finding median age of list\n",
        "sorted_ages = sorted(sorted_ages)\n",
        "n = math.floor(len(sorted_ages))\n",
        "median = (sorted_ages[int(n/2)] + sorted_ages[int(n/2)+1])/2\n",
        "print(median)\n",
        "\n",
        "## Finding Average age\n",
        "avg_age = sum(sorted_ages)/len(sorted_ages)\n",
        "print(avg_age)\n",
        "\n",
        "## finding Range of list\n",
        "range_ages = max(sorted_ages) - min(sorted_ages)\n",
        "print(range_ages)"
      ]
    },
    {
      "cell_type": "markdown",
      "metadata": {
        "id": "t2nfqcg4Z_6x"
      },
      "source": [
        "# Question 2"
      ]
    },
    {
      "cell_type": "code",
      "execution_count": null,
      "metadata": {
        "colab": {
          "base_uri": "https://localhost:8080/"
        },
        "id": "1Z6jUXNKZ_6x",
        "outputId": "23dd706f-60bb-408e-a042-d052a52d484b"
      },
      "outputs": [
        {
          "output_type": "stream",
          "name": "stdout",
          "text": [
            "Length of student dictionary: 9\n",
            "['python', 'ruby', 'node.js'] Data type:  <class 'list'>\n",
            "{'first_name': 'Jhon', 'last_name': 'Pal', 'gender': 'Male', 'age': 22, 'marital status': 'Single', 'skills': ['python', 'ruby', 'node.js', 'java', 'html'], 'country': 'USA', 'city': 'St.petersburg', 'address': '4532 west, 124th st, kp town, 65342'}\n",
            "['first_name', 'last_name', 'gender', 'age', 'marital status', 'skills', 'country', 'city', 'address']\n",
            "['Jhon', 'Pal', 'Male', 22, 'Single', ['python', 'ruby', 'node.js', 'java', 'html'], 'USA', 'St.petersburg', '4532 west, 124th st, kp town, 65342']\n"
          ]
        }
      ],
      "source": [
        "\n",
        "## creating an empty dictionary named dog\n",
        "dog = {}\n",
        "dog.update({'Name': 'Scoopy', 'Color': 'Brown', 'Breed':'German Shepard', 'Legs': 4, 'Age': 3})\n",
        "student = {'first_name': 'Jhon', 'last_name': 'Pal', 'gender' : 'Male', 'age': 22, 'marital status' :\n",
        "           'Single', 'skills': ['python', 'ruby', 'node.js'], 'country': 'USA', 'city' : 'St.petersburg' , 'address': '4532 west, 124th st, kp town, 65342'}\n",
        "\n",
        "## printing length of student dictionary\n",
        "print(\"Length of student dictionary:\",len(student))\n",
        "\n",
        "## listing values of skills and checking data type\n",
        "print(student['skills'], \"Data type: \", type(student['skills']))\n",
        "\n",
        "## modifying skills in student dictionary\n",
        "student['skills'].extend(['java', 'html'])\n",
        "print(student)\n",
        "\n",
        "## Printing dictionary keys as list\\\n",
        "print(list(student.keys()))\n",
        "\n",
        "## Printing student dictionary values as list\n",
        "print(list(student.values()))"
      ]
    },
    {
      "cell_type": "markdown",
      "metadata": {
        "id": "wEeKtaJQZ_6y"
      },
      "source": [
        "# Question 3"
      ]
    },
    {
      "cell_type": "code",
      "execution_count": null,
      "metadata": {
        "colab": {
          "base_uri": "https://localhost:8080/"
        },
        "id": "w3QlIneSZ_6y",
        "outputId": "3f81bdae-f70b-4daf-8342-3314c0283000"
      },
      "outputs": [
        {
          "output_type": "stream",
          "name": "stdout",
          "text": [
            "Brothers:  ('Jhon', 'Jimmy', 'Michel') Sisters:  ('Lara', 'Roosi')\n",
            "Concatnation of brothers and sisters:  ('Jhon', 'Jimmy', 'Michel', 'Lara', 'Roosi')\n",
            "No of Siblings : 5\n",
            "Family tuple:  ('Jhon', 'Jimmy', 'Michel', 'Lara', 'Roosi', 'Mike', 'Joo')\n"
          ]
        }
      ],
      "source": [
        "## create brothers and sisters tuple\n",
        "brothers = ('Jhon', 'Jimmy', 'Michel')\n",
        "sisters = ('Lara', 'Roosi')\n",
        "print(\"Brothers: \",brothers,\"Sisters: \", sisters)\n",
        "\n",
        "## adding brothers and sisters into sublings\n",
        "siblings = brothers + sisters\n",
        "print(\"Concatnation of brothers and sisters: \",siblings)\n",
        "\n",
        "# length of siblings\n",
        "print(\"No of Siblings :\", len(siblings))\n",
        "\n",
        "# adding father mother and siblings to family tuple\n",
        "family = siblings + ('Mike', 'Joo')\n",
        "print(\"Family tuple: \",family)"
      ]
    },
    {
      "cell_type": "markdown",
      "metadata": {
        "id": "Z7bHo_oDZ_6y"
      },
      "source": [
        "# Question 4"
      ]
    },
    {
      "cell_type": "code",
      "execution_count": null,
      "metadata": {
        "colab": {
          "base_uri": "https://localhost:8080/"
        },
        "id": "DFs3Yu8vZ_6y",
        "outputId": "26d13e80-d41f-48bb-991a-f3dc577e86f2"
      },
      "outputs": [
        {
          "output_type": "stream",
          "name": "stdout",
          "text": [
            "Length of it_companies:  7\n",
            "Added Twitter company to it_companies:  {'Google', 'Twitter', 'Facebook', 'Oracle', 'IBM', 'Amazon', 'Microsoft', 'Apple'}\n",
            "Added multiple IT companies:  {'Oracle', 'Amazon', 'TCS', 'Google', 'Twitter', 'X', 'Facebook', 'Capital One', 'IBM', 'Microsoft', 'Apple'}\n",
            "{'Oracle', 'Amazon', 'TCS', 'Google', 'Twitter', 'X', 'Facebook', 'IBM', 'Microsoft', 'Apple'}\n",
            "Added A & B sets:  {19, 20, 22, 24, 25, 26}\n",
            "A intersection B:  {19, 20, 22, 24, 25, 26}\n",
            "True\n",
            "False\n",
            "Joining set A with B:  {19, 20, 22, 24, 25, 26}\n",
            "Joining B with A:  {19, 20, 22, 24, 25, 26, 27, 28}\n",
            "{19, 20, 22, 24, 25, 26}\n",
            "Type of Age_set:  <class 'set'>\n",
            "False\n"
          ]
        }
      ],
      "source": [
        "# Creating the dictionary It_companies\n",
        "it_companies = {'Facebook', 'Google', 'Microsoft', 'Apple', 'IBM', 'Oracle', 'Amazon'}\n",
        "\n",
        "#creating A&B sets\n",
        "A = {19, 22, 24, 20, 25, 26}\n",
        "B = {19, 22, 20, 25, 26, 24, 28, 27}\n",
        "\n",
        "#created list age\n",
        "age = [22, 19, 24, 25, 26, 24, 25, 24]\n",
        "\n",
        "# printing length of it_companies dictionary\n",
        "print(\"Length of it_companies: \", len(it_companies))\n",
        "\n",
        "# adding Twitter to it_companies dictionary\n",
        "it_companies.add('Twitter')\n",
        "print(\"Added Twitter company to it_companies: \", it_companies)\n",
        "\n",
        "# adding multiple companies to it_companies dictionary\n",
        "it_companies.update({'Capital One', 'X', 'TCS'})\n",
        "print(\"Added multiple IT companies: \",it_companies)\n",
        "\n",
        "# removing Capital one from it_companies dict\n",
        "it_companies.remove('Capital One')\n",
        "print(it_companies)\n",
        "\n",
        "# Joining two sets A & B\n",
        "A.union(B)\n",
        "print(\"Added A & B sets: \", A)\n",
        "\n",
        "# Intersection b/w A and B\n",
        "intersectionAB = A.intersection(B)\n",
        "print(\"A intersection B: \", intersectionAB)\n",
        "\n",
        "# finding subset and disjoint set\n",
        "print(A.issubset(B))\n",
        "print(A.isdisjoint(B))\n",
        "\n",
        "# joining A with B and B with A\n",
        "A.union(B)\n",
        "print(\"Joining set A with B: \",A)\n",
        "\n",
        "B.union(A)\n",
        "print(\"Joining B with A: \", B)\n",
        "\n",
        "# finding symmetric difference\n",
        "A.symmetric_difference(B)\n",
        "print(A)\n",
        "\n",
        "\n",
        "# deleting set A and set B\n",
        "del(A) # this will delete set A complety\n",
        "del(B) # this will delete set B complety\n",
        "\n",
        "\n",
        "# converting age list to set, then compared list and set of age\n",
        "age_set = set(age)\n",
        "print(\"Type of Age_set: \",type(age_set))\n",
        "\n",
        "print(len(age) == len(age_set))"
      ]
    },
    {
      "cell_type": "markdown",
      "metadata": {
        "id": "GT3_ebjFZ_6y"
      },
      "source": [
        "# question 5"
      ]
    },
    {
      "cell_type": "code",
      "execution_count": null,
      "metadata": {
        "colab": {
          "base_uri": "https://localhost:8080/"
        },
        "id": "NKU9KoTzZ_6y",
        "outputId": "e09298d7-40b8-460c-c003-af64ab6d3d22"
      },
      "outputs": [
        {
          "output_type": "stream",
          "name": "stdout",
          "text": [
            "2827.4333882308138\n"
          ]
        }
      ],
      "source": [
        "import math\n",
        "# calculate area of circle with static radius\n",
        "Radius = 30\n",
        "_area_of_circle_ = math.pi * (Radius**2)\n",
        "print(_area_of_circle_)"
      ]
    },
    {
      "cell_type": "code",
      "execution_count": null,
      "metadata": {
        "colab": {
          "base_uri": "https://localhost:8080/"
        },
        "id": "tHNrHhzeZ_6z",
        "outputId": "e49762d8-9e98-4b64-ba08-27d052fd7185"
      },
      "outputs": [
        {
          "output_type": "stream",
          "name": "stdout",
          "text": [
            "188.49555921538757\n"
          ]
        }
      ],
      "source": [
        "# calculating circumference of circle\n",
        "_circum_of_circle_ = 2* math.pi * Radius\n",
        "print(_circum_of_circle_)"
      ]
    },
    {
      "cell_type": "code",
      "execution_count": null,
      "metadata": {
        "colab": {
          "base_uri": "https://localhost:8080/"
        },
        "id": "FO9LtLeCZ_6z",
        "outputId": "7a839560-0455-4ae3-96f3-eeff45aedc04"
      },
      "outputs": [
        {
          "output_type": "stream",
          "name": "stdout",
          "text": [
            "Enter Radius for circle: 15\n",
            "706.8583470577034\n"
          ]
        }
      ],
      "source": [
        "# calculating area of circle with user defined radius\n",
        "user_radius = int(input(\"Enter Radius for circle: \"))\n",
        "area_of_circle = math.pi * (user_radius**2)\n",
        "print(area_of_circle)"
      ]
    },
    {
      "cell_type": "markdown",
      "metadata": {
        "id": "Zg0agBbtZ_6z"
      },
      "source": [
        "# question 6"
      ]
    },
    {
      "cell_type": "code",
      "execution_count": null,
      "metadata": {
        "colab": {
          "base_uri": "https://localhost:8080/"
        },
        "id": "7RUVKHU7Z_6z",
        "outputId": "df213d9b-58c5-4692-b02f-afc1a3347c73"
      },
      "outputs": [
        {
          "output_type": "stream",
          "name": "stdout",
          "text": [
            "No of unique words are:  10\n"
          ]
        }
      ],
      "source": [
        "# finding count of unique words in given string\n",
        "string = \"I am a teacher and I love to inspire and teach people\"\n",
        "set_words = set(string.split(\" \"))\n",
        "print(\"No of unique words are: \", len(set_words))"
      ]
    },
    {
      "cell_type": "markdown",
      "metadata": {
        "id": "Z5DZlAwzZ_6z"
      },
      "source": [
        "# Question 7"
      ]
    },
    {
      "cell_type": "code",
      "execution_count": null,
      "metadata": {
        "colab": {
          "base_uri": "https://localhost:8080/"
        },
        "id": "Hou6VcSiZ_6z",
        "outputId": "77b858e5-f79f-4051-f537-a746dcec2f03"
      },
      "outputs": [
        {
          "output_type": "stream",
          "name": "stdout",
          "text": [
            "Name\tAge\tCountry\tCity\n",
            "Asabeneh\t250\tFinland\tHelsinki\n"
          ]
        }
      ],
      "source": [
        "# using \\t (tab spacing) and \\n (new line) to print tab seperated values\n",
        "print(\"Name\\tAge\\tCountry\\tCity\\nAsabeneh\\t250\\tFinland\\tHelsinki\")"
      ]
    },
    {
      "cell_type": "markdown",
      "metadata": {
        "id": "esrsBONEZ_6z"
      },
      "source": [
        "# Question 8"
      ]
    },
    {
      "cell_type": "code",
      "execution_count": null,
      "metadata": {
        "colab": {
          "base_uri": "https://localhost:8080/"
        },
        "id": "sgsZGeyUZ_60",
        "outputId": "384fef0b-5f94-4fa9-f4c5-ec1438e4a4b8"
      },
      "outputs": [
        {
          "output_type": "stream",
          "name": "stdout",
          "text": [
            "The area of circle with 10 is 314 meters square\n"
          ]
        }
      ],
      "source": [
        "# printing text using string format method\n",
        "radius = 10\n",
        "area = 3.14 * radius**2\n",
        "print(\"The area of circle with {} is {} meters square\".format(radius, int(area)))"
      ]
    },
    {
      "cell_type": "markdown",
      "metadata": {
        "id": "_9pL0jsdZ_60"
      },
      "source": [
        "# Question 9"
      ]
    },
    {
      "cell_type": "code",
      "execution_count": null,
      "metadata": {
        "colab": {
          "base_uri": "https://localhost:8080/"
        },
        "id": "ID0I2WC5Z_60",
        "outputId": "898484c6-976c-44e6-ffea-927f1afddda2"
      },
      "outputs": [
        {
          "output_type": "stream",
          "name": "stdout",
          "text": [
            "Enter no of students: 4\n",
            "Enter student 1 weight:  150\n",
            "Enter student 2 weight:  155\n",
            "Enter student 3 weight:  145\n",
            "Enter student 4 weight:  148\n",
            "Weights in Lbs:  [150, 155, 145, 148]\n",
            "Weights in Kgs:  [68.04, 70.31, 65.77, 67.13]\n"
          ]
        }
      ],
      "source": [
        "# converting weight in lbs to kgs by taking user input for number students and their respective weights in lbs\n",
        "n = int(input(\"Enter no of students: \"))\n",
        "lbs_weights = []\n",
        "count = 0\n",
        "while count < n:\n",
        "    lb_w = int(input(f\"Enter student {count+1} weight:  \"))\n",
        "    lbs_weights.append(lb_w)\n",
        "    count += 1\n",
        "\n",
        "print(\"Weights in Lbs: \", lbs_weights)\n",
        "\n",
        "kgs_weights = []\n",
        "for i in lbs_weights:\n",
        "    kg_w = i * 0.453592\n",
        "    kgs_weights.append(round(kg_w, 2))\n",
        "print(\"Weights in Kgs: \", kgs_weights)"
      ]
    },
    {
      "cell_type": "code",
      "source": [],
      "metadata": {
        "id": "mVWIo7NyckDh"
      },
      "execution_count": null,
      "outputs": []
    }
  ],
  "metadata": {
    "kernelspec": {
      "display_name": "Python 3.10.6 ('env')",
      "language": "python",
      "name": "python3"
    },
    "language_info": {
      "codemirror_mode": {
        "name": "ipython",
        "version": 3
      },
      "file_extension": ".py",
      "mimetype": "text/x-python",
      "name": "python",
      "nbconvert_exporter": "python",
      "pygments_lexer": "ipython3",
      "version": "3.10.6"
    },
    "orig_nbformat": 4,
    "vscode": {
      "interpreter": {
        "hash": "8b8dd6e954a031bf6a6b232774109d5b70b8969ce5c2b56ca78c66bf74ed287c"
      }
    },
    "colab": {
      "provenance": []
    }
  },
  "nbformat": 4,
  "nbformat_minor": 0
}